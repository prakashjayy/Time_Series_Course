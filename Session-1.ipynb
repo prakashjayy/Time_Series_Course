{
 "cells": [
  {
   "cell_type": "markdown",
   "metadata": {
    "slideshow": {
     "slide_type": "slide"
    }
   },
   "source": [
    "## Tell us what the future holds, so we may know that you are God. \n",
    "                                                                      - Isiah 41:23"
   ]
  },
  {
   "cell_type": "markdown",
   "metadata": {
    "slideshow": {
     "slide_type": "slide"
    }
   },
   "source": [
    "# What is a Time-Series ?\n",
    "A time series is a series of data points indexed (or listed or graphed) in time order. Most commonly, a time series is a sequence taken at successive equally spaced points in time. Thus it is a sequence of discrete-time data.\n",
    "\n",
    "# What is Time-Series Forecasting? (Predictive Analytics)\n",
    "Time series forecasting is the use of a model to predict future values based on previously observed values.  \n",
    "Example: Power demand of a city in the next 10 series.\n",
    "\n",
    "# What is Time-series Analysis? (Descriptive Analytics)\n",
    "Time series analysis comprises methods for analyzing time series data in order to extract meaningful statistics and other characteristics of the data.  \n",
    "Example: Effect of sales of a restaurant due to demontisation."
   ]
  },
  {
   "cell_type": "markdown",
   "metadata": {
    "slideshow": {
     "slide_type": "slide"
    }
   },
   "source": [
    "## What can be Forecasted? \n",
    "\n",
    "A few examples include:\n",
    " - Building power generation plat in the next 5 years: Requires forecasts of future demand \n",
    " - Scheduling staff in a call center next week requires forecasts of call volumes \n",
    " - Stocking an inventory requires forecasts of stock requirements.\n",
    " \n",
    "## Factors to consider while Forecasting?\n",
    " - How much data is Available?\n",
    " - How well we understand the factors that contribute to it?\n",
    " - Weather the forecast can effect the things we are trying to forecast?\n",
    " \n",
    " \n"
   ]
  },
  {
   "cell_type": "markdown",
   "metadata": {
    "slideshow": {
     "slide_type": "slide"
    }
   },
   "source": [
    "## Different kinds of forecasting?\n",
    "- Short-term Forecasts \n",
    "    - scheduling of personal.\n",
    "    - production and transportation.\n",
    "    \n",
    "- Medium-term forecasts \n",
    "    - Determine future resource requirements.\n",
    "    \n",
    "- Long-term forecasts\n",
    "    - Strategic planning of a company."
   ]
  },
  {
   "cell_type": "markdown",
   "metadata": {
    "slideshow": {
     "slide_type": "slide"
    }
   },
   "source": [
    "## Forecast Horizons\n",
    "- Will forecasts be required for next day, next week, next 6 months, next 10 years?\n",
    "- How frequently are forecasts needed?\n",
    "- What kind of forecasts are needed?\n",
    "\n",
    "## Data Collections\n",
    "- What data to include?\n",
    "- Granularity of the data required based on the problem?\n",
    "- How to gather data?\n",
    "- Do we need external variables? What variables to include?\n",
    "\n",
    "In a Forecasting project, spend most of the time collecting quality data.  \n",
    "<p style=\"text-align: center;\"><b>\"GARBAGE IN. GARBAGE OUT\"</b></p>"
   ]
  },
  {
   "cell_type": "markdown",
   "metadata": {
    "slideshow": {
     "slide_type": "slide"
    }
   },
   "source": [
    "## Forecasting Types:\n",
    "    - Qualitative Forecating (Judgemental Foreacting)\n",
    "    - Quantitative ( Cross-sectional or Time-Series)\n",
    "    \n",
    "We will look into Time-Series Forecasting in this class "
   ]
  },
  {
   "cell_type": "markdown",
   "metadata": {
    "slideshow": {
     "slide_type": "slide"
    }
   },
   "source": [
    "## Basic Steps in a forecasting task? (Convert this into a flow chart)\n",
    "- step1: Defining problem\n",
    "- step2: Gathering data \n",
    "- step3: visualizing data\n",
    "- step4: Building models\n",
    "- step5: validating models and using them.\n",
    "\n",
    "We have discussed briefly about defining a problem and gathering data previously. Now lets look into visualizing a time series data."
   ]
  },
  {
   "cell_type": "code",
   "execution_count": 1,
   "metadata": {
    "collapsed": true,
    "slideshow": {
     "slide_type": "skip"
    }
   },
   "outputs": [],
   "source": [
    "import pandas as pd\n",
    "import numpy as np\n",
    "import matplotlib.pyplot as plt \n",
    "%matplotlib inline "
   ]
  },
  {
   "cell_type": "code",
   "execution_count": 2,
   "metadata": {
    "collapsed": false
   },
   "outputs": [
    {
     "name": "stdout",
     "output_type": "stream",
     "text": [
      "(48, 2)\n"
     ]
    },
    {
     "data": {
      "text/html": [
       "<div>\n",
       "<table border=\"1\" class=\"dataframe\">\n",
       "  <thead>\n",
       "    <tr style=\"text-align: right;\">\n",
       "      <th></th>\n",
       "      <th>Year</th>\n",
       "      <th>Air transport, passengers carried</th>\n",
       "    </tr>\n",
       "  </thead>\n",
       "  <tbody>\n",
       "    <tr>\n",
       "      <th>0</th>\n",
       "      <td>1970</td>\n",
       "      <td>2671600</td>\n",
       "    </tr>\n",
       "    <tr>\n",
       "      <th>1</th>\n",
       "      <td>1971</td>\n",
       "      <td>2554000</td>\n",
       "    </tr>\n",
       "    <tr>\n",
       "      <th>2</th>\n",
       "      <td>1972</td>\n",
       "      <td>3285800</td>\n",
       "    </tr>\n",
       "    <tr>\n",
       "      <th>3</th>\n",
       "      <td>1973</td>\n",
       "      <td>3391600</td>\n",
       "    </tr>\n",
       "    <tr>\n",
       "      <th>4</th>\n",
       "      <td>1974</td>\n",
       "      <td>3037300</td>\n",
       "    </tr>\n",
       "  </tbody>\n",
       "</table>\n",
       "</div>"
      ],
      "text/plain": [
       "   Year Air transport, passengers carried\n",
       "0  1970                           2671600\n",
       "1  1971                           2554000\n",
       "2  1972                           3285800\n",
       "3  1973                           3391600\n",
       "4  1974                           3037300"
      ]
     },
     "execution_count": 2,
     "metadata": {},
     "output_type": "execute_result"
    }
   ],
   "source": [
    "# Dataset Downloaded from https://datamarket.com/data/set/14lt/air-transport-passengers-carried#!display=line&ds=14lt!gmr=l\"\n",
    "\n",
    "ts = pd.read_csv(\"data/air-transport-passengers-carried.csv\")\n",
    "print(ts.shape)\n",
    "ts.head()"
   ]
  },
  {
   "cell_type": "code",
   "execution_count": null,
   "metadata": {
    "collapsed": true
   },
   "outputs": [],
   "source": []
  }
 ],
 "metadata": {
  "celltoolbar": "Slideshow",
  "kernelspec": {
   "display_name": "Python [tondulkR]",
   "language": "python",
   "name": "Python [tondulkR]"
  },
  "language_info": {
   "codemirror_mode": {
    "name": "ipython",
    "version": 3
   },
   "file_extension": ".py",
   "mimetype": "text/x-python",
   "name": "python",
   "nbconvert_exporter": "python",
   "pygments_lexer": "ipython3",
   "version": "3.5.2"
  }
 },
 "nbformat": 4,
 "nbformat_minor": 0
}
